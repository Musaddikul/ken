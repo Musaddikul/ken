{
 "cells": [
  {
   "cell_type": "markdown",
   "id": "a40aa92c",
   "metadata": {},
   "source": [
    "### Question 1"
   ]
  },
  {
   "cell_type": "markdown",
   "id": "be06e55b",
   "metadata": {},
   "source": [
    "#### Suppose we wish to find the mean μ, for data that follows the normal distribution where the known data are {1, 5, 4, 10}. With two data items missing. Here  n=6 and k=4. Suppose that we initially guess μ^0=3. We then use this value for two missing values."
   ]
  },
  {
   "cell_type": "code",
   "execution_count": 4,
   "id": "a1d07ad8",
   "metadata": {},
   "outputs": [],
   "source": [
    "data1 = [1, 5, 10, 4]"
   ]
  },
  {
   "cell_type": "code",
   "execution_count": 5,
   "id": "d9ba32c3",
   "metadata": {},
   "outputs": [
    {
     "name": "stdout",
     "output_type": "stream",
     "text": [
      "[3, 4.333333333333333, 4.777777777777778, 4.9259259259259265, 4.975308641975309, 4.991769547325103, 4.997256515775034, 4.999085505258345]\n"
     ]
    }
   ],
   "source": [
    "def EM(data, N, k, m):\n",
    "    mu = [m]\n",
    "    for i in range(0, 1000):\n",
    "        m = (sum(data) + (N - k) * m) / N\n",
    "        \n",
    "        if abs(mu[-1] - m) < 0.001:\n",
    "            break\n",
    "        else:\n",
    "            mu.append(m)\n",
    "    \n",
    "    return mu\n",
    "\n",
    "result = EM(data1, 6, 4, 3)\n",
    "print(result)\n"
   ]
  },
  {
   "cell_type": "markdown",
   "id": "6167cbcb",
   "metadata": {},
   "source": [
    "### Question 2"
   ]
  },
  {
   "cell_type": "markdown",
   "id": "7ad8a32a",
   "metadata": {},
   "source": [
    "#### Following data with two missing values follow Poisson distribution with mean 9 (use random seed = 10). Using Expectation-Maximization (EM) algorithm, estimate μ and number of iterations required to estimate μ (Use your exam roll as initial values)."
   ]
  },
  {
   "cell_type": "code",
   "execution_count": 38,
   "id": "1fe3a88d",
   "metadata": {},
   "outputs": [
    {
     "name": "stdout",
     "output_type": "stream",
     "text": [
      "All Estimated Means: [10, 9.8, 9.76, 9.751999999999999, 9.750399999999999]\n",
      "Estimated Mean: 9.750399999999999\n",
      "Number of itterations: 5\n"
     ]
    }
   ],
   "source": [
    "import numpy as np\n",
    "np.random.seed(1810052)\n",
    "mis = 2\n",
    "N = 10\n",
    "lambda2 = 9\n",
    "pois2 = np.random.poisson(lambda2, N)\n",
    "pois2 = pois2.astype(float)\n",
    "pois2[8:10] = np.nan\n",
    "\n",
    "def EM(x, N):\n",
    "    m = 10\n",
    "    mu = [m]\n",
    "    for i in range(0, 1000):\n",
    "        m = (np.nansum(x) + mis * m) / N\n",
    "        \n",
    "        if abs(mu[-1] - m) < 0.001:\n",
    "            break\n",
    "        else:\n",
    "            mu.append(m)\n",
    "    print('All Estimated Means:', mu)\n",
    "    print('Estimated Mean:', mu[-1])\n",
    "    print('Number of itterations:', i + 1)\n",
    "\n",
    "res = EM(pois2, N)"
   ]
  },
  {
   "cell_type": "markdown",
   "id": "3a78735e",
   "metadata": {},
   "source": [
    "### Question 3"
   ]
  },
  {
   "cell_type": "markdown",
   "id": "b6697275",
   "metadata": {},
   "source": [
    "#### Generate a random sample of size 20 from a Poisson distribution with mean 15. Use your examination roll as seed. Consider the last two values as missing. Using EM algorithm to estimate μ and σ. Comment on your estimates."
   ]
  },
  {
   "cell_type": "code",
   "execution_count": 37,
   "id": "cc8c85da",
   "metadata": {},
   "outputs": [
    {
     "name": "stdout",
     "output_type": "stream",
     "text": [
      "mu: 15.111\n",
      "sigma: 2.364083097101284\n",
      "[15.    17.    13.    19.    16.    14.    19.    14.    15.    12.\n",
      " 14.    18.    11.    13.    17.    14.    12.    19.    15.111 15.111]\n"
     ]
    }
   ],
   "source": [
    "import numpy as np\n",
    "def EM(N, lamb, mis):\n",
    "    np.random.seed(1810052)\n",
    "    data = np.random.poisson(lamb, N)\n",
    "    data = data.astype(float)\n",
    "    data[18:20] = np.nan\n",
    "    m = round(np.nansum(data)/N)\n",
    "    mu = [m]\n",
    "    for i in range(0, 1000):\n",
    "        m = (np.nansum(data) + mis * m) / N\n",
    "        mu.append(m)\n",
    "        \n",
    "        if abs(mu[-1] - mu[-2]) < 0.001:\n",
    "            break\n",
    "  \n",
    "    data[18:20] = mu[-2]\n",
    "    \n",
    "    print(\"mu:\", mu[-2])\n",
    "    print(\"sigma:\", np.nanstd(data))\n",
    "    \n",
    "result = EM(20, 15, 2)"
   ]
  },
  {
   "cell_type": "markdown",
   "id": "bbbab9f6",
   "metadata": {},
   "source": [
    "### Question 4"
   ]
  },
  {
   "cell_type": "markdown",
   "id": "d4f9d727",
   "metadata": {},
   "source": [
    "#### Generate a random number sample of size, 10 from an exponential distribution with mean 15. Using your examination roll as seed. Consider the 5th and 6th generated values as missing. Using EM algorithm,\n",
    "a.\tEstimate the minimum variance unbiased estimate of the sample mean, and\n",
    "\n",
    "b.\tAn unbiased estimate of the variance of the sample mean. Comment on your findings."
   ]
  },
  {
   "cell_type": "code",
   "execution_count": 41,
   "id": "27107493",
   "metadata": {},
   "outputs": [
    {
     "name": "stdout",
     "output_type": "stream",
     "text": [
      "Answer (a): \n",
      "Minimum Variance Unbiased Estimate): 20.750964994621476\n",
      "\n",
      "Answer (b): \n",
      "Unbiased Variance of Sample Mean : 28.423992776083896\n"
     ]
    }
   ],
   "source": [
    "import numpy as np\n",
    "\n",
    "def EM(N, mean, mis):\n",
    "    np.random.seed(1810052)\n",
    "    data = np.random.exponential(scale= mean, size=N)\n",
    "    data[4:6] = np.nan\n",
    "    m = round(np.nansum(data)/N)\n",
    "    mu = [m]\n",
    "    \n",
    "    for i in range(1, 1000):\n",
    "        m = (np.nansum(data) + mis * m) / N\n",
    "        p = mu[-1] - m\n",
    "        if abs(p) < 0.001:\n",
    "            break\n",
    "        else:\n",
    "            mu.append(m)\n",
    "    \n",
    "    data[4:6] = mu[-1]\n",
    "    \n",
    "    print(\"Answer (a): \\nMinimum Variance Unbiased Estimate):\", np.mean(data))\n",
    "    print(\"\\nAnswer (b): \\nUnbiased Variance of Sample Mean :\", np.var(data) / N)\n",
    "    \n",
    "EM(10, 15, 2)"
   ]
  }
 ],
 "metadata": {
  "kernelspec": {
   "display_name": "Python 3 (ipykernel)",
   "language": "python",
   "name": "python3"
  },
  "language_info": {
   "codemirror_mode": {
    "name": "ipython",
    "version": 3
   },
   "file_extension": ".py",
   "mimetype": "text/x-python",
   "name": "python",
   "nbconvert_exporter": "python",
   "pygments_lexer": "ipython3",
   "version": "3.11.4"
  }
 },
 "nbformat": 4,
 "nbformat_minor": 5
}
